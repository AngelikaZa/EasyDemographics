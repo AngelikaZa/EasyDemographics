{
 "cells": [
  {
   "cell_type": "markdown",
   "metadata": {},
   "source": [
    "## Easy Demographics\n",
    "\n",
    "Example of how to easily get through group comparisons for demographics and clinical characteristics"
   ]
  },
  {
   "cell_type": "markdown",
   "metadata": {},
   "source": [
    "### Load necessary libraries and data"
   ]
  },
  {
   "cell_type": "code",
   "execution_count": 18,
   "metadata": {},
   "outputs": [],
   "source": [
    "# Import libraries\n",
    "import pandas as pd\n",
    "import numpy as np\n",
    "import scipy.stats as stats\n",
    "import statsmodels.api as sm\n",
    "from scipy.stats import shapiro\n",
    "from statsmodels.formula.api import ols\n",
    "import scikit_posthocs as sp\n",
    "import matplotlib as plt\n",
    "import seaborn as sns\n",
    "from pandas.api.types import is_numeric_dtype\n",
    "from Demographics import *"
   ]
  },
  {
   "cell_type": "code",
   "execution_count": 2,
   "metadata": {},
   "outputs": [],
   "source": [
    "# Load database of all demographics\n",
    "##### ! You have to load your own data here!\n",
    "df1 = pd.read_excel(r\"C:/Users/Angelika/Dropbox/PhD/EXPERIMENTS/02_StructuralMRI/02_ThalamicSegmentation/Visit1Data.xlsx\")\n",
    "df2 = pd.read_excel(r\"C:/Users/Angelika/Dropbox/PhD/EXPERIMENTS/02_StructuralMRI/02_ThalamicSegmentation/\\Visit2Data.xlsx\")\n",
    "df = pd.concat((df1, df2), axis=1)"
   ]
  },
  {
   "cell_type": "markdown",
   "metadata": {},
   "source": [
    "### Check normality "
   ]
  },
  {
   "cell_type": "code",
   "execution_count": 5,
   "metadata": {},
   "outputs": [],
   "source": [
    "## Check normality across all numeric variables \n",
    "normal, nonNormal = normalityCheck(df)\n",
    "\n",
    "### Save in text files the names of the variables\n",
    "with open('NormallyDistributedVariables.txt', 'w') as filehandle:\n",
    "    for listitem in normal:\n",
    "        filehandle.write('%s\\n' % listitem)\n",
    "with open('NonNormallyDistributedVariables.txt', 'w') as filehandle:\n",
    "    for listitem in nonNormal:\n",
    "        filehandle.write('%s\\n' % listitem)"
   ]
  },
  {
   "cell_type": "code",
   "execution_count": 8,
   "metadata": {},
   "outputs": [
    {
     "data": {
      "text/plain": [
       "(0.9803189635276794, 0.1324549913406372)"
      ]
     },
     "execution_count": 8,
     "metadata": {},
     "output_type": "execute_result"
    },
    {
     "data": {
      "image/png": "[encoded data removed]",
      "text/plain": [
       "<Figure size 432x288 with 1 Axes>"
      ]
     },
     "metadata": {
      "needs_background": "light"
     },
     "output_type": "display_data"
    }
   ],
   "source": [
    "## Visualise distribution - if want to for individual columns\n",
    "col = \"Age\"\n",
    "sns.distplot(df[col])\n",
    "stats.shapiro(df[col])"
   ]
  },
  {
   "cell_type": "markdown",
   "metadata": {},
   "source": [
    "### Extract group statistics"
   ]
  },
  {
   "cell_type": "code",
   "execution_count": 10,
   "metadata": {},
   "outputs": [],
   "source": [
    "### Extract group means and standard deviations\n",
    "groupedDf = groupDemographics(df, \"PD_VHAny\")\n",
    "groupedDf.to_csv(\"GroupedDataframe.csv\")"
   ]
  },
  {
   "cell_type": "markdown",
   "metadata": {},
   "source": [
    "### Compare variables between groups"
   ]
  },
  {
   "cell_type": "code",
   "execution_count": 12,
   "metadata": {},
   "outputs": [],
   "source": [
    "## Load the names of the variables I want to compare\n",
    "filename = r\"C:\\Users\\Angelika\\Dropbox\\PhD\\EXPERIMENTS\\02_StructuralMRI\\02_ThalamicSegmentation\\DemographicsAll3groups.txt\"\n",
    "variables = [line.rstrip('\\n') for line in open(filename)]\n",
    "### Perform group comparisons\n",
    "result = groupCompare(variables,\"PD_VHAny\",df,3) #variables, group comparison, dataframe, the group variable has 3 groups (0 controls, 1 PD non VH, 2 PD VH)\n",
    "result.to_csv(\"GroupComparisons.csv\")"
   ]
  },
  {
   "cell_type": "code",
   "execution_count": 16,
   "metadata": {},
   "outputs": [
    {
     "data": {
      "text/html": [
       "<div>\n",
       "<style scoped>\n",
       "    .dataframe tbody tr th:only-of-type {\n",
       "        vertical-align: middle;\n",
       "    }\n",
       "\n",
       "    .dataframe tbody tr th {\n",
       "        vertical-align: top;\n",
       "    }\n",
       "\n",
       "    .dataframe thead th {\n",
       "        text-align: right;\n",
       "    }\n",
       "</style>\n",
       "<table border=\"1\" class=\"dataframe\">\n",
       "  <thead>\n",
       "    <tr style=\"text-align: right;\">\n",
       "      <th></th>\n",
       "      <th>Variable</th>\n",
       "      <th>Statistic</th>\n",
       "      <th>Pvalue</th>\n",
       "      <th>Type</th>\n",
       "    </tr>\n",
       "  </thead>\n",
       "  <tbody>\n",
       "    <tr>\n",
       "      <th>1</th>\n",
       "      <td>IntracranialVolume</td>\n",
       "      <td>0.070110</td>\n",
       "      <td>0.010172</td>\n",
       "      <td>ANOVA</td>\n",
       "    </tr>\n",
       "    <tr>\n",
       "      <th>6</th>\n",
       "      <td>MOCA</td>\n",
       "      <td>6.008577</td>\n",
       "      <td>0.049574</td>\n",
       "      <td>Kruskal-Wallis</td>\n",
       "    </tr>\n",
       "    <tr>\n",
       "      <th>8</th>\n",
       "      <td>HADSanxiety</td>\n",
       "      <td>12.428324</td>\n",
       "      <td>0.002001</td>\n",
       "      <td>Kruskal-Wallis</td>\n",
       "    </tr>\n",
       "    <tr>\n",
       "      <th>9</th>\n",
       "      <td>HADSdepression</td>\n",
       "      <td>23.010155</td>\n",
       "      <td>0.000010</td>\n",
       "      <td>Kruskal-Wallis</td>\n",
       "    </tr>\n",
       "    <tr>\n",
       "      <th>12</th>\n",
       "      <td>Stroop_colour_time</td>\n",
       "      <td>0.068283</td>\n",
       "      <td>0.011614</td>\n",
       "      <td>ANOVA</td>\n",
       "    </tr>\n",
       "    <tr>\n",
       "      <th>13</th>\n",
       "      <td>Stroop_both_time</td>\n",
       "      <td>7.024970</td>\n",
       "      <td>0.029823</td>\n",
       "      <td>Kruskal-Wallis</td>\n",
       "    </tr>\n",
       "  </tbody>\n",
       "</table>\n",
       "</div>"
      ],
      "text/plain": [
       "              Variable  Statistic    Pvalue            Type\n",
       "1   IntracranialVolume   0.070110  0.010172           ANOVA\n",
       "6                 MOCA   6.008577  0.049574  Kruskal-Wallis\n",
       "8          HADSanxiety  12.428324  0.002001  Kruskal-Wallis\n",
       "9       HADSdepression  23.010155  0.000010  Kruskal-Wallis\n",
       "12  Stroop_colour_time   0.068283  0.011614           ANOVA\n",
       "13    Stroop_both_time   7.024970  0.029823  Kruskal-Wallis"
      ]
     },
     "execution_count": 16,
     "metadata": {},
     "output_type": "execute_result"
    }
   ],
   "source": [
    "#### Post hoc testing\n",
    "## Variables that are significantly different between groups\n",
    "result[result.Pvalue <=0.05]"
   ]
  },
  {
   "cell_type": "code",
   "execution_count": 13,
   "metadata": {},
   "outputs": [
    {
     "data": {
      "text/html": [
       "<div>\n",
       "<style scoped>\n",
       "    .dataframe tbody tr th:only-of-type {\n",
       "        vertical-align: middle;\n",
       "    }\n",
       "\n",
       "    .dataframe tbody tr th {\n",
       "        vertical-align: top;\n",
       "    }\n",
       "\n",
       "    .dataframe thead th {\n",
       "        text-align: right;\n",
       "    }\n",
       "</style>\n",
       "<table border=\"1\" class=\"dataframe\">\n",
       "  <thead>\n",
       "    <tr style=\"text-align: right;\">\n",
       "      <th></th>\n",
       "      <th>0</th>\n",
       "      <th>1</th>\n",
       "      <th>2</th>\n",
       "    </tr>\n",
       "  </thead>\n",
       "  <tbody>\n",
       "    <tr>\n",
       "      <th>0</th>\n",
       "      <td>-1</td>\n",
       "      <td>0</td>\n",
       "      <td>1</td>\n",
       "    </tr>\n",
       "    <tr>\n",
       "      <th>1</th>\n",
       "      <td>0</td>\n",
       "      <td>-1</td>\n",
       "      <td>1</td>\n",
       "    </tr>\n",
       "    <tr>\n",
       "      <th>2</th>\n",
       "      <td>1</td>\n",
       "      <td>1</td>\n",
       "      <td>-1</td>\n",
       "    </tr>\n",
       "  </tbody>\n",
       "</table>\n",
       "</div>"
      ],
      "text/plain": [
       "   0  1  2\n",
       "0 -1  0  1\n",
       "1  0 -1  1\n",
       "2  1  1 -1"
      ]
     },
     "execution_count": 13,
     "metadata": {},
     "output_type": "execute_result"
    }
   ],
   "source": [
    "# Post hoc tukey test for ANOVA\n",
    "var = \"Stroop_colour_time\"\n",
    "data = df[np.isfinite(df[var])]\n",
    "variable = data[var] # substitute variable sequentially to test all continuous variables following ANOVA\n",
    "group = data.PD_VHAny\n",
    "sp.posthoc_tukey_hsd(variable, group, alpha=0.05)\n",
    "# The contrast appearing as 1 is significant / 0 is non significant / -1 for diagonals"
   ]
  },
  {
   "cell_type": "code",
   "execution_count": 14,
   "metadata": {},
   "outputs": [
    {
     "data": {
      "text/html": [
       "<div>\n",
       "<style scoped>\n",
       "    .dataframe tbody tr th:only-of-type {\n",
       "        vertical-align: middle;\n",
       "    }\n",
       "\n",
       "    .dataframe tbody tr th {\n",
       "        vertical-align: top;\n",
       "    }\n",
       "\n",
       "    .dataframe thead th {\n",
       "        text-align: right;\n",
       "    }\n",
       "</style>\n",
       "<table border=\"1\" class=\"dataframe\">\n",
       "  <thead>\n",
       "    <tr style=\"text-align: right;\">\n",
       "      <th></th>\n",
       "      <th>1</th>\n",
       "      <th>2</th>\n",
       "      <th>3</th>\n",
       "    </tr>\n",
       "  </thead>\n",
       "  <tbody>\n",
       "    <tr>\n",
       "      <th>1</th>\n",
       "      <td>-1.000000</td>\n",
       "      <td>0.484345</td>\n",
       "      <td>0.011199</td>\n",
       "    </tr>\n",
       "    <tr>\n",
       "      <th>2</th>\n",
       "      <td>0.484345</td>\n",
       "      <td>-1.000000</td>\n",
       "      <td>0.022603</td>\n",
       "    </tr>\n",
       "    <tr>\n",
       "      <th>3</th>\n",
       "      <td>0.011199</td>\n",
       "      <td>0.022603</td>\n",
       "      <td>-1.000000</td>\n",
       "    </tr>\n",
       "  </tbody>\n",
       "</table>\n",
       "</div>"
      ],
      "text/plain": [
       "          1         2         3\n",
       "1 -1.000000  0.484345  0.011199\n",
       "2  0.484345 -1.000000  0.022603\n",
       "3  0.011199  0.022603 -1.000000"
      ]
     },
     "execution_count": 14,
     "metadata": {},
     "output_type": "execute_result"
    }
   ],
   "source": [
    "## Post hoc dunn test for Kruskal Wallis\n",
    "var = \"Stroop_both_time\"\n",
    "X = [df[df.PD_VHAny == 0][var], df[df.PD_VHAny == 1][var], df[df.PD_VHAny == 2][var]]\n",
    "sp.posthoc_dunn(X) \n",
    "### returns the exact p-values for each comparison"
   ]
  },
  {
   "cell_type": "code",
   "execution_count": 20,
   "metadata": {},
   "outputs": [],
   "source": [
    "## Compare categorical variables\n",
    "filename = r\"C:/Users/Angelika/Dropbox/PhD/EXPERIMENTS/02_StructuralMRI/02_ThalamicSegmentation/DemographicsPDgroupsCategorical.txt\"\n",
    "variables = [line.rstrip('\\n') for line in open(filename)]\n",
    "# do categorical comparison using chi-square\n",
    "result = categoricalCompare(variables, \"PD_VHAny\", df)\n",
    "# Export to csv\n",
    "result.to_csv(\"CategoricalCompare.csv\")"
   ]
  }
 ],
 "metadata": {
  "kernelspec": {
   "display_name": "Python 3",
   "language": "python",
   "name": "python3"
  },
  "language_info": {
   "codemirror_mode": {
    "name": "ipython",
    "version": 3
   },
   "file_extension": ".py",
   "mimetype": "text/x-python",
   "name": "python",
   "nbconvert_exporter": "python",
   "pygments_lexer": "ipython3",
   "version": "3.7.6"
  }
 },
 "nbformat": 4,
 "nbformat_minor": 4
}
